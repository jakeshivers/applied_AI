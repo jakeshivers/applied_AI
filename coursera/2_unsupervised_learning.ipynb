{
 "cells": [
  {
   "cell_type": "code",
   "execution_count": null,
   "id": "b754eb0b",
   "metadata": {},
   "outputs": [],
   "source": [
    "# ==================================\n",
    "# 1. Setup\n",
    "# ==================================\n",
    "import pandas as pd\n",
    "import numpy as np\n",
    "import matplotlib.pyplot as plt\n",
    "import seaborn as sns\n",
    "\n",
    "from sklearn.preprocessing import StandardScaler\n",
    "from sklearn.decomposition import PCA\n",
    "from sklearn.cluster import KMeans\n",
    "from sklearn.metrics import silhouette_score\n",
    "\n",
    "# Load datast\n",
    "df = pd.read_csv(\"../data/Telco-Customer-Churn.csv\")\n",
    "\n",
    "# Quick look at the data\n",
    "df.head()\n"
   ]
  }
 ],
 "metadata": {
  "language_info": {
   "name": "python"
  }
 },
 "nbformat": 4,
 "nbformat_minor": 5
}
