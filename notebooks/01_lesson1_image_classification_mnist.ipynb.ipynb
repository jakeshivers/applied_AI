{
 "cells": [
  {
   "cell_type": "markdown",
   "id": "957d6d40",
   "metadata": {},
   "source": [
    "\n",
    "# Applied AI • fast.ai Starter (CPU) — Jake's Notebook\n",
    "\n",
    "Welcome! This notebook is pre-wired for local, CPU-only fast.ai practice using your `.applied_ai` env.  \n",
    "It includes:\n",
    "- a quick environment check,\n",
    "- a tiny **MNIST Sample** training run,\n",
    "- simple interpretation,\n",
    "- a **personalized run logger** that appends results to a CSV for easy tracking,\n",
    "- and some light personalization cells you can tweak.\n",
    "\n",
    "> Tip: Use the **Python (.applied_ai)** kernel when opening this notebook.\n"
   ]
  },
  {
   "cell_type": "code",
   "execution_count": 1,
   "id": "ba4ee15e",
   "metadata": {},
   "outputs": [
    {
     "name": "stdout",
     "output_type": "stream",
     "text": [
      "Python: 3.12.3\n",
      "CPU threads available: 16\n"
     ]
    }
   ],
   "source": [
    "\n",
    "from datetime import datetime\n",
    "import platform, os\n",
    "\n",
    "now = datetime.now().strftime('%Y-%m-%d %H:%M:%S')\n",
    "\n",
    "print(\"Python:\", platform.python_version())\n",
    "print(\"CPU threads available:\", os.cpu_count())\n",
    "\n"
   ]
  },
  {
   "cell_type": "code",
   "execution_count": 2,
   "id": "46d5cd8f",
   "metadata": {},
   "outputs": [
    {
     "name": "stdout",
     "output_type": "stream",
     "text": [
      "torch: 2.8.0+cpu\n",
      "fastai: 2.8.4\n",
      "GPU available (torch.cuda.is_available): False\n",
      "Running on CPU (expected).\n"
     ]
    }
   ],
   "source": [
    "\n",
    "import torch, fastai\n",
    "print(\"torch:\", torch.__version__)\n",
    "print(\"fastai:\", fastai.__version__)\n",
    "print(\"GPU available (torch.cuda.is_available):\", torch.cuda.is_available())\n",
    "\n",
    "if torch.cuda.is_available():\n",
    "    print(\"Note: This notebook is set up for CPU, but GPU is fine too!\")\n",
    "else:\n",
    "    print(\"Running on CPU (expected).\")\n"
   ]
  },
  {
   "cell_type": "code",
   "execution_count": 3,
   "id": "bc906b2c",
   "metadata": {},
   "outputs": [
    {
     "name": "stdout",
     "output_type": "stream",
     "text": [
      "Configured threads: 8\n"
     ]
    }
   ],
   "source": [
    "\n",
    "import os, torch\n",
    "\n",
    "# Use a sensible number of threads for a snappy local experience\n",
    "n_threads = max(2, min(8, (os.cpu_count() or 4)//2))\n",
    "os.environ[\"OMP_NUM_THREADS\"] = str(n_threads)\n",
    "os.environ[\"MKL_NUM_THREADS\"] = str(n_threads)\n",
    "torch.set_num_threads(n_threads)\n",
    "\n",
    "print(\"Configured threads:\", n_threads)\n"
   ]
  },
  {
   "cell_type": "code",
   "execution_count": 4,
   "id": "793acbe4",
   "metadata": {},
   "outputs": [
    {
     "data": {
      "text/plain": [
       "([Path('/home/jake/.fastai/data/mnist_sample/train/3/34089.png'),\n",
       "  Path('/home/jake/.fastai/data/mnist_sample/train/3/57056.png'),\n",
       "  Path('/home/jake/.fastai/data/mnist_sample/train/3/21359.png')],\n",
       " [Path('/home/jake/.fastai/data/mnist_sample/valid/3/6563.png'),\n",
       "  Path('/home/jake/.fastai/data/mnist_sample/valid/3/9157.png'),\n",
       "  Path('/home/jake/.fastai/data/mnist_sample/valid/3/5878.png')])"
      ]
     },
     "execution_count": 4,
     "metadata": {},
     "output_type": "execute_result"
    }
   ],
   "source": [
    "\n",
    "from fastai.vision.all import *\n",
    "SEED = 42\n",
    "\n",
    "set_seed(SEED, reproducible=True)\n",
    "path = untar_data(URLs.MNIST_SAMPLE)   # small, quick to download\n",
    "dls = ImageDataLoaders.from_folder(path, valid='valid', bs=64, num_workers=2)\n",
    "\n",
    "# Peek at a few items\n",
    "list(dls.train.items)[:3], list(dls.valid.items)[:3]\n"
   ]
  },
  {
   "cell_type": "code",
   "execution_count": 5,
   "id": "8e4b7d1c",
   "metadata": {},
   "outputs": [
    {
     "data": {
      "image/png": "[encoded data removed]",
      "text/plain": [
       "<Figure size 400x400 with 9 Axes>"
      ]
     },
     "metadata": {},
     "output_type": "display_data"
    }
   ],
   "source": [
    "\n",
    "dls.show_batch(max_n=9, figsize=(4,4))\n"
   ]
  },
  {
   "cell_type": "code",
   "execution_count": 6,
   "id": "d6bdba26",
   "metadata": {},
   "outputs": [
    {
     "data": {
      "text/plain": [
       "<fastai.learner.Learner at 0x7c9a3c653920>"
      ]
     },
     "execution_count": 6,
     "metadata": {},
     "output_type": "execute_result"
    }
   ],
   "source": [
    "\n",
    "learn = vision_learner(dls, resnet18, metrics=accuracy)\n",
    "learn\n"
   ]
  },
  {
   "cell_type": "code",
   "execution_count": null,
   "id": "cdf512cd",
   "metadata": {},
   "outputs": [],
   "source": [
    "\n",
    "# lr_min, lr_steep = learn.lr_find()\n",
    "# lr_min, lr_steep\n"
   ]
  },
  {
   "cell_type": "code",
   "execution_count": 7,
   "id": "bcfdf797",
   "metadata": {},
   "outputs": [
    {
     "data": {
      "text/html": [
       "\n",
       "<style>\n",
       "    /* Turns off some styling */\n",
       "    progress {\n",
       "        /* gets rid of default border in Firefox and Opera. */\n",
       "        border: none;\n",
       "        /* Needs to be in here for Safari polyfill so background images work as expected. */\n",
       "        background-size: auto;\n",
       "    }\n",
       "    progress:not([value]), progress:not([value])::-webkit-progress-bar {\n",
       "        background: repeating-linear-gradient(45deg, #7e7e7e, #7e7e7e 10px, #5c5c5c 10px, #5c5c5c 20px);\n",
       "    }\n",
       "    .progress-bar-interrupted, .progress-bar-interrupted::-webkit-progress-bar {\n",
       "        background: #F44336;\n",
       "    }\n",
       "</style>\n"
      ],
      "text/plain": [
       "<IPython.core.display.HTML object>"
      ]
     },
     "metadata": {},
     "output_type": "display_data"
    },
    {
     "data": {
      "text/html": [
       "<table border=\"1\" class=\"dataframe\">\n",
       "  <thead>\n",
       "    <tr style=\"text-align: left;\">\n",
       "      <th>epoch</th>\n",
       "      <th>train_loss</th>\n",
       "      <th>valid_loss</th>\n",
       "      <th>accuracy</th>\n",
       "      <th>time</th>\n",
       "    </tr>\n",
       "  </thead>\n",
       "  <tbody>\n",
       "    <tr>\n",
       "      <td>0</td>\n",
       "      <td>0.289801</td>\n",
       "      <td>0.148384</td>\n",
       "      <td>0.941119</td>\n",
       "      <td>00:14</td>\n",
       "    </tr>\n",
       "  </tbody>\n",
       "</table>"
      ],
      "text/plain": [
       "<IPython.core.display.HTML object>"
      ]
     },
     "metadata": {},
     "output_type": "display_data"
    },
    {
     "data": {
      "text/html": [
       "\n",
       "<style>\n",
       "    /* Turns off some styling */\n",
       "    progress {\n",
       "        /* gets rid of default border in Firefox and Opera. */\n",
       "        border: none;\n",
       "        /* Needs to be in here for Safari polyfill so background images work as expected. */\n",
       "        background-size: auto;\n",
       "    }\n",
       "    progress:not([value]), progress:not([value])::-webkit-progress-bar {\n",
       "        background: repeating-linear-gradient(45deg, #7e7e7e, #7e7e7e 10px, #5c5c5c 10px, #5c5c5c 20px);\n",
       "    }\n",
       "    .progress-bar-interrupted, .progress-bar-interrupted::-webkit-progress-bar {\n",
       "        background: #F44336;\n",
       "    }\n",
       "</style>\n"
      ],
      "text/plain": [
       "<IPython.core.display.HTML object>"
      ]
     },
     "metadata": {},
     "output_type": "display_data"
    },
    {
     "data": {
      "text/html": [
       "<table border=\"1\" class=\"dataframe\">\n",
       "  <thead>\n",
       "    <tr style=\"text-align: left;\">\n",
       "      <th>epoch</th>\n",
       "      <th>train_loss</th>\n",
       "      <th>valid_loss</th>\n",
       "      <th>accuracy</th>\n",
       "      <th>time</th>\n",
       "    </tr>\n",
       "  </thead>\n",
       "  <tbody>\n",
       "    <tr>\n",
       "      <td>0</td>\n",
       "      <td>0.041748</td>\n",
       "      <td>0.024457</td>\n",
       "      <td>0.992640</td>\n",
       "      <td>00:17</td>\n",
       "    </tr>\n",
       "  </tbody>\n",
       "</table>"
      ],
      "text/plain": [
       "<IPython.core.display.HTML object>"
      ]
     },
     "metadata": {},
     "output_type": "display_data"
    }
   ],
   "source": [
    "\n",
    "learn.fine_tune(1)\n"
   ]
  },
  {
   "cell_type": "code",
   "execution_count": 8,
   "id": "5f97bb52",
   "metadata": {},
   "outputs": [
    {
     "data": {
      "text/html": [
       "\n",
       "<style>\n",
       "    /* Turns off some styling */\n",
       "    progress {\n",
       "        /* gets rid of default border in Firefox and Opera. */\n",
       "        border: none;\n",
       "        /* Needs to be in here for Safari polyfill so background images work as expected. */\n",
       "        background-size: auto;\n",
       "    }\n",
       "    progress:not([value]), progress:not([value])::-webkit-progress-bar {\n",
       "        background: repeating-linear-gradient(45deg, #7e7e7e, #7e7e7e 10px, #5c5c5c 10px, #5c5c5c 20px);\n",
       "    }\n",
       "    .progress-bar-interrupted, .progress-bar-interrupted::-webkit-progress-bar {\n",
       "        background: #F44336;\n",
       "    }\n",
       "</style>\n"
      ],
      "text/plain": [
       "<IPython.core.display.HTML object>"
      ]
     },
     "metadata": {},
     "output_type": "display_data"
    },
    {
     "data": {
      "text/html": [],
      "text/plain": [
       "<IPython.core.display.HTML object>"
      ]
     },
     "metadata": {},
     "output_type": "display_data"
    },
    {
     "data": {
      "text/html": [
       "\n",
       "<style>\n",
       "    /* Turns off some styling */\n",
       "    progress {\n",
       "        /* gets rid of default border in Firefox and Opera. */\n",
       "        border: none;\n",
       "        /* Needs to be in here for Safari polyfill so background images work as expected. */\n",
       "        background-size: auto;\n",
       "    }\n",
       "    progress:not([value]), progress:not([value])::-webkit-progress-bar {\n",
       "        background: repeating-linear-gradient(45deg, #7e7e7e, #7e7e7e 10px, #5c5c5c 10px, #5c5c5c 20px);\n",
       "    }\n",
       "    .progress-bar-interrupted, .progress-bar-interrupted::-webkit-progress-bar {\n",
       "        background: #F44336;\n",
       "    }\n",
       "</style>\n"
      ],
      "text/plain": [
       "<IPython.core.display.HTML object>"
      ]
     },
     "metadata": {},
     "output_type": "display_data"
    },
    {
     "data": {
      "text/html": [],
      "text/plain": [
       "<IPython.core.display.HTML object>"
      ]
     },
     "metadata": {},
     "output_type": "display_data"
    },
    {
     "data": {
      "text/html": [
       "\n",
       "<style>\n",
       "    /* Turns off some styling */\n",
       "    progress {\n",
       "        /* gets rid of default border in Firefox and Opera. */\n",
       "        border: none;\n",
       "        /* Needs to be in here for Safari polyfill so background images work as expected. */\n",
       "        background-size: auto;\n",
       "    }\n",
       "    progress:not([value]), progress:not([value])::-webkit-progress-bar {\n",
       "        background: repeating-linear-gradient(45deg, #7e7e7e, #7e7e7e 10px, #5c5c5c 10px, #5c5c5c 20px);\n",
       "    }\n",
       "    .progress-bar-interrupted, .progress-bar-interrupted::-webkit-progress-bar {\n",
       "        background: #F44336;\n",
       "    }\n",
       "</style>\n"
      ],
      "text/plain": [
       "<IPython.core.display.HTML object>"
      ]
     },
     "metadata": {},
     "output_type": "display_data"
    },
    {
     "data": {
      "text/html": [],
      "text/plain": [
       "<IPython.core.display.HTML object>"
      ]
     },
     "metadata": {},
     "output_type": "display_data"
    },
    {
     "data": {
      "image/png": "[encoded data removed]",
      "text/plain": [
       "<Figure size 400x400 with 1 Axes>"
      ]
     },
     "metadata": {},
     "output_type": "display_data"
    },
    {
     "data": {
      "image/png": "[encoded data removed]",
      "text/plain": [
       "<Figure size 600x600 with 9 Axes>"
      ]
     },
     "metadata": {},
     "output_type": "display_data"
    }
   ],
   "source": [
    "\n",
    "interp = ClassificationInterpretation.from_learner(learn)\n",
    "interp.plot_confusion_matrix(figsize=(4,4))\n",
    "interp.plot_top_losses(9, nrows=3, figsize=(6,6))\n"
   ]
  },
  {
   "cell_type": "code",
   "execution_count": 9,
   "id": "9adc2203",
   "metadata": {},
   "outputs": [
    {
     "name": "stdout",
     "output_type": "stream",
     "text": [
      "Saved model to: /home/jake/Devlopment/applied_AI/mnist_sample-resnet18.pkl\n",
      "Copy to /mnt/data skipped: [Errno 2] No such file or directory: 'mnist_sample-resnet18.pkl'\n"
     ]
    }
   ],
   "source": [
    "\n",
    "from pathlib import Path\n",
    "import shutil\n",
    "\n",
    "RUN_TAG   = \"mnist_sample\"\n",
    "\n",
    "model_name = f\"{RUN_TAG}-resnet18\"\n",
    "learn.save(model_name)\n",
    "export_path = Path(model_name + \".pkl\")\n",
    "learn.export(export_path)\n",
    "print(\"Saved model to:\", export_path.resolve())\n",
    "\n",
    "# Copy to /mnt/data for easy download (if available)\n",
    "try:\n",
    "    dst = Path(\"/mnt/data\") / export_path.name\n",
    "    shutil.copy2(export_path, dst)\n",
    "    print(\"Also copied to:\", dst)\n",
    "except Exception as e:\n",
    "    print(\"Copy to /mnt/data skipped:\", e)\n"
   ]
  },
  {
   "cell_type": "code",
   "execution_count": 13,
   "id": "f3ca027c",
   "metadata": {},
   "outputs": [
    {
     "data": {
      "text/html": [
       "\n",
       "<style>\n",
       "    /* Turns off some styling */\n",
       "    progress {\n",
       "        /* gets rid of default border in Firefox and Opera. */\n",
       "        border: none;\n",
       "        /* Needs to be in here for Safari polyfill so background images work as expected. */\n",
       "        background-size: auto;\n",
       "    }\n",
       "    progress:not([value]), progress:not([value])::-webkit-progress-bar {\n",
       "        background: repeating-linear-gradient(45deg, #7e7e7e, #7e7e7e 10px, #5c5c5c 10px, #5c5c5c 20px);\n",
       "    }\n",
       "    .progress-bar-interrupted, .progress-bar-interrupted::-webkit-progress-bar {\n",
       "        background: #F44336;\n",
       "    }\n",
       "</style>\n"
      ],
      "text/plain": [
       "<IPython.core.display.HTML object>"
      ]
     },
     "metadata": {},
     "output_type": "display_data"
    },
    {
     "data": {
      "text/html": [],
      "text/plain": [
       "<IPython.core.display.HTML object>"
      ]
     },
     "metadata": {},
     "output_type": "display_data"
    },
    {
     "name": "stdout",
     "output_type": "stream",
     "text": [
      "Logged to: /home/jake/Devlopment/applied_AI/metrics/fastai_run_metrics.csv\n"
     ]
    },
    {
     "name": "stderr",
     "output_type": "stream",
     "text": [
      "/tmp/ipykernel_179024/2555270121.py:12: DeprecationWarning: datetime.datetime.utcnow() is deprecated and scheduled for removal in a future version. Use timezone-aware objects to represent datetimes in UTC: datetime.datetime.now(datetime.UTC).\n",
      "  \"timestamp_utc\": datetime.utcnow().isoformat(timespec=\"seconds\"),\n"
     ]
    },
    {
     "data": {
      "application/vnd.microsoft.datawrangler.viewer.v0+json": {
       "columns": [
        {
         "name": "index",
         "rawType": "int64",
         "type": "integer"
        },
        {
         "name": "timestamp_utc",
         "rawType": "object",
         "type": "string"
        },
        {
         "name": "run_tag",
         "rawType": "object",
         "type": "string"
        },
        {
         "name": "model",
         "rawType": "object",
         "type": "string"
        },
        {
         "name": "epochs",
         "rawType": "int64",
         "type": "integer"
        },
        {
         "name": "valid_loss",
         "rawType": "float64",
         "type": "float"
        },
        {
         "name": "accuracy",
         "rawType": "float64",
         "type": "float"
        }
       ],
       "ref": "b0cab97a-fb3f-4197-a3a7-8408c2ea62c1",
       "rows": [
        [
         "0",
         "2025-08-27T01:48:49",
         "mnist_sample",
         "resnet18",
         "1",
         "0.0244573336094617",
         "0.9926398396492004"
        ]
       ],
       "shape": {
        "columns": 6,
        "rows": 1
       }
      },
      "text/html": [
       "<div>\n",
       "<style scoped>\n",
       "    .dataframe tbody tr th:only-of-type {\n",
       "        vertical-align: middle;\n",
       "    }\n",
       "\n",
       "    .dataframe tbody tr th {\n",
       "        vertical-align: top;\n",
       "    }\n",
       "\n",
       "    .dataframe thead th {\n",
       "        text-align: right;\n",
       "    }\n",
       "</style>\n",
       "<table border=\"1\" class=\"dataframe\">\n",
       "  <thead>\n",
       "    <tr style=\"text-align: right;\">\n",
       "      <th></th>\n",
       "      <th>timestamp_utc</th>\n",
       "      <th>run_tag</th>\n",
       "      <th>model</th>\n",
       "      <th>epochs</th>\n",
       "      <th>valid_loss</th>\n",
       "      <th>accuracy</th>\n",
       "    </tr>\n",
       "  </thead>\n",
       "  <tbody>\n",
       "    <tr>\n",
       "      <th>0</th>\n",
       "      <td>2025-08-27T01:48:49</td>\n",
       "      <td>mnist_sample</td>\n",
       "      <td>resnet18</td>\n",
       "      <td>1</td>\n",
       "      <td>0.024457</td>\n",
       "      <td>0.99264</td>\n",
       "    </tr>\n",
       "  </tbody>\n",
       "</table>\n",
       "</div>"
      ],
      "text/plain": [
       "         timestamp_utc       run_tag     model  epochs  valid_loss  accuracy\n",
       "0  2025-08-27T01:48:49  mnist_sample  resnet18       1    0.024457   0.99264"
      ]
     },
     "metadata": {},
     "output_type": "display_data"
    }
   ],
   "source": [
    "\n",
    "import pandas as pd\n",
    "from pathlib import Path\n",
    "from datetime import datetime\n",
    "\n",
    "# --- collect metrics (your snippet) ---\n",
    "metrics = learn.validate()   # [valid_loss, accuracy]\n",
    "valid_loss = float(metrics[0])\n",
    "acc = float(metrics[1]) if len(metrics) > 1 else None\n",
    "epochs_completed = len(getattr(learn.recorder, \"values\", []))\n",
    "\n",
    "row = {\n",
    "    \"timestamp_utc\": datetime.utcnow().isoformat(timespec=\"seconds\"),\n",
    "    \"run_tag\": RUN_TAG,            # make sure RUN_TAG is defined earlier\n",
    "    \"model\": \"resnet18\",\n",
    "    \"epochs\": epochs_completed,\n",
    "    \"valid_loss\": valid_loss,\n",
    "    \"accuracy\": acc,\n",
    "}\n",
    "\n",
    "# --- append to CSV (creates folder/file if needed) ---\n",
    "metrics_dir = Path(\"metrics\")\n",
    "metrics_dir.mkdir(parents=True, exist_ok=True)\n",
    "csv_path = metrics_dir / \"fastai_run_metrics.csv\"\n",
    "\n",
    "write_header = not csv_path.exists()\n",
    "pd.DataFrame([row]).to_csv(\n",
    "    csv_path, index=False, mode=\"a\", header=write_header, encoding=\"utf-8\"\n",
    ")\n",
    "\n",
    "print(f\"Logged to: {csv_path.resolve()}\")\n",
    "\n",
    "# --- show recent runs ---\n",
    "try:\n",
    "    display(pd.read_csv(csv_path).tail(10))\n",
    "except Exception as e:\n",
    "    print(\"Could not display leaderboard:\", e)\n",
    "\n"
   ]
  },
  {
   "cell_type": "code",
   "execution_count": null,
   "id": "633c5059",
   "metadata": {},
   "outputs": [
    {
     "name": "stdout",
     "output_type": "stream",
     "text": [
      "MOTD: Smooth is fast. Fast is smooth.\n"
     ]
    }
   ],
   "source": [
    "\n",
    "import random\n",
    "mantras = [\n",
    "    \"Small wins compound. Keep going.\",\n",
    "    \"Data > opinions. Measure, then optimize.\",\n",
    "    \"Focus is your force multiplier.\",\n",
    "    \"Slower is smoother. Smoother is faster.\",\n",
    "    \"Ship it. Iterate. Improve.\"\n",
    "]\n",
    "print(\"MOTD:\", random.choice(mantras))\n"
   ]
  },
  {
   "cell_type": "code",
   "execution_count": 15,
   "id": "9792cb93",
   "metadata": {},
   "outputs": [
    {
     "data": {
      "image/png": "[encoded data removed]",
      "text/plain": [
       "<Figure size 640x480 with 1 Axes>"
      ]
     },
     "metadata": {},
     "output_type": "display_data"
    }
   ],
   "source": [
    "import matplotlib.pyplot as plt\n",
    "df = pd.read_csv(csv_path, parse_dates=[\"timestamp_utc\"])\n",
    "df = df.sort_values(\"timestamp_utc\")\n",
    "plt.figure()\n",
    "plt.plot(df[\"timestamp_utc\"], df[\"accuracy\"], marker=\"o\")\n",
    "plt.title(\"Run accuracy over time\")\n",
    "plt.xlabel(\"timestamp\")\n",
    "plt.ylabel(\"accuracy\")\n",
    "plt.xticks(rotation=45, ha=\"right\")\n",
    "plt.tight_layout()\n",
    "plt.show()\n"
   ]
  },
  {
   "cell_type": "code",
   "execution_count": null,
   "id": "4241a540",
   "metadata": {},
   "outputs": [
    {
     "data": {
      "text/html": [
       "\n",
       "<style>\n",
       "    /* Turns off some styling */\n",
       "    progress {\n",
       "        /* gets rid of default border in Firefox and Opera. */\n",
       "        border: none;\n",
       "        /* Needs to be in here for Safari polyfill so background images work as expected. */\n",
       "        background-size: auto;\n",
       "    }\n",
       "    progress:not([value]), progress:not([value])::-webkit-progress-bar {\n",
       "        background: repeating-linear-gradient(45deg, #7e7e7e, #7e7e7e 10px, #5c5c5c 10px, #5c5c5c 20px);\n",
       "    }\n",
       "    .progress-bar-interrupted, .progress-bar-interrupted::-webkit-progress-bar {\n",
       "        background: #F44336;\n",
       "    }\n",
       "</style>\n"
      ],
      "text/plain": [
       "<IPython.core.display.HTML object>"
      ]
     },
     "metadata": {},
     "output_type": "display_data"
    },
    {
     "data": {
      "text/html": [
       "<table border=\"1\" class=\"dataframe\">\n",
       "  <thead>\n",
       "    <tr style=\"text-align: left;\">\n",
       "      <th>epoch</th>\n",
       "      <th>train_loss</th>\n",
       "      <th>valid_loss</th>\n",
       "      <th>accuracy</th>\n",
       "      <th>time</th>\n",
       "    </tr>\n",
       "  </thead>\n",
       "  <tbody>\n",
       "    <tr>\n",
       "      <td>0</td>\n",
       "      <td>0.098505</td>\n",
       "      <td>0.036650</td>\n",
       "      <td>0.989696</td>\n",
       "      <td>03:26</td>\n",
       "    </tr>\n",
       "  </tbody>\n",
       "</table>"
      ],
      "text/plain": [
       "<IPython.core.display.HTML object>"
      ]
     },
     "metadata": {},
     "output_type": "display_data"
    },
    {
     "data": {
      "text/html": [
       "\n",
       "<style>\n",
       "    /* Turns off some styling */\n",
       "    progress {\n",
       "        /* gets rid of default border in Firefox and Opera. */\n",
       "        border: none;\n",
       "        /* Needs to be in here for Safari polyfill so background images work as expected. */\n",
       "        background-size: auto;\n",
       "    }\n",
       "    progress:not([value]), progress:not([value])::-webkit-progress-bar {\n",
       "        background: repeating-linear-gradient(45deg, #7e7e7e, #7e7e7e 10px, #5c5c5c 10px, #5c5c5c 20px);\n",
       "    }\n",
       "    .progress-bar-interrupted, .progress-bar-interrupted::-webkit-progress-bar {\n",
       "        background: #F44336;\n",
       "    }\n",
       "</style>\n"
      ],
      "text/plain": [
       "<IPython.core.display.HTML object>"
      ]
     },
     "metadata": {},
     "output_type": "display_data"
    },
    {
     "data": {
      "text/html": [
       "\n",
       "    <div>\n",
       "      <progress value='0' class='' max='2' style='width:300px; height:20px; vertical-align: middle;'></progress>\n",
       "      0.00% [0/2 00:00&lt;?]\n",
       "    </div>\n",
       "    \n",
       "<table border=\"1\" class=\"dataframe\">\n",
       "  <thead>\n",
       "    <tr style=\"text-align: left;\">\n",
       "      <th>epoch</th>\n",
       "      <th>train_loss</th>\n",
       "      <th>valid_loss</th>\n",
       "      <th>accuracy</th>\n",
       "      <th>time</th>\n",
       "    </tr>\n",
       "  </thead>\n",
       "  <tbody>\n",
       "  </tbody>\n",
       "</table><p>\n",
       "\n",
       "    <div>\n",
       "      <progress value='68' class='' max='193' style='width:300px; height:20px; vertical-align: middle;'></progress>\n",
       "      35.23% [68/193 01:45&lt;03:13 0.0357]\n",
       "    </div>\n",
       "    "
      ],
      "text/plain": [
       "<IPython.core.display.HTML object>"
      ]
     },
     "metadata": {},
     "output_type": "display_data"
    }
   ],
   "source": [
    "from fastai.vision.all import *\n",
    "RUN_TAG = \"mnist_aug_128\"\n",
    "\n",
    "path = untar_data(URLs.MNIST_SAMPLE)\n",
    "dls = ImageDataLoaders.from_folder(\n",
    "    path, valid='valid', bs=64, num_workers=2,\n",
    "    item_tfms=Resize(128),\n",
    "    batch_tfms=[*aug_transforms(do_flip=False), Normalize.from_stats(*imagenet_stats)]\n",
    ")\n",
    "learn = vision_learner(dls, resnet18, metrics=accuracy)\n",
    "learn.fine_tune(2, base_lr=3e-3)\n"
   ]
  },
  {
   "cell_type": "code",
   "execution_count": null,
   "id": "a6ced676",
   "metadata": {},
   "outputs": [],
   "source": [
    "RUN_TAG = \"mnist_tuned\"\n",
    "lr_min, lr_steep = learn.lr_find()\n",
    "learn.fine_tune(3, base_lr=lr_min)\n"
   ]
  }
 ],
 "metadata": {
  "kernelspec": {
   "display_name": ".applied_ai",
   "language": "python",
   "name": "python3"
  },
  "language_info": {
   "codemirror_mode": {
    "name": "ipython",
    "version": 3
   },
   "file_extension": ".py",
   "mimetype": "text/x-python",
   "name": "python",
   "nbconvert_exporter": "python",
   "pygments_lexer": "ipython3",
   "version": "3.12.3"
  }
 },
 "nbformat": 4,
 "nbformat_minor": 5
}
