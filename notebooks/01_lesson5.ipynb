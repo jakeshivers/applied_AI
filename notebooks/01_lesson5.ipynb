{
 "cells": [
  {
   "cell_type": "markdown",
   "id": "ca021ff1",
   "metadata": {},
   "source": [
    "# Lesson 5: Fast AI.From Scratch Model\n",
    "\n",
    "#### When can feedback loops occur? What are the consequences of feedback loops in the context of recommendation systems?\n",
    "When your model is contorlling the next round of data you train it on. YouTube recommendations is a great example because they're predicting what you like based on what you watched. But if it keeps feeding you the same topic, how does it know what else you might be interested in?\n",
    "\n"
   ]
  }
 ],
 "metadata": {
  "kernelspec": {
   "display_name": ".applied_ai",
   "language": "python",
   "name": "python3"
  },
  "language_info": {
   "codemirror_mode": {
    "name": "ipython",
    "version": 3
   },
   "file_extension": ".py",
   "mimetype": "text/x-python",
   "name": "python",
   "nbconvert_exporter": "python",
   "pygments_lexer": "ipython3",
   "version": "3.12.3"
  }
 },
 "nbformat": 4,
 "nbformat_minor": 5
}
